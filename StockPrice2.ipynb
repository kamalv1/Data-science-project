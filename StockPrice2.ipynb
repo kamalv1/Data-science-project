{
 "cells": [
  {
   "cell_type": "code",
   "execution_count": 15,
   "metadata": {},
   "outputs": [],
   "source": [
    "# Import necessary libraries\n",
    "import numpy as np\n",
    "import pandas as pd\n",
    "from sklearn.preprocessing import MinMaxScaler\n",
    "from tensorflow.keras.models import Sequential\n",
    "from tensorflow.keras.layers import LSTM, Dense"
   ]
  },
  {
   "cell_type": "code",
   "execution_count": 16,
   "metadata": {},
   "outputs": [],
   "source": [
    "# Load the stock data\n",
    "df = pd.read_excel(r\"C:\\Users\\Kamal Verma\\Downloads\\1729258-1613615-Stock_Price_data_set_(1).xlsx\", index_col='Date', parse_dates=True)"
   ]
  },
  {
   "cell_type": "code",
   "execution_count": 17,
   "metadata": {},
   "outputs": [],
   "source": [
    "# Split the data into training and testing sets\n",
    "train_size = int(len(df) * 0.8)\n",
    "train_data = df.iloc[:train_size]\n",
    "test_data = df.iloc[train_size:]"
   ]
  },
  {
   "cell_type": "code",
   "execution_count": 18,
   "metadata": {},
   "outputs": [],
   "source": [
    "# Scale the data\n",
    "scaler = MinMaxScaler()\n",
    "train_scaled = scaler.fit_transform(train_data)\n",
    "test_scaled = scaler.transform(test_data)"
   ]
  },
  {
   "cell_type": "code",
   "execution_count": 19,
   "metadata": {},
   "outputs": [],
   "source": [
    "# Define the LSTM model\n",
    "model = Sequential()\n",
    "model.add(LSTM(32, input_shape=(1, train_scaled.shape[1]), activation='relu', return_sequences=False))\n",
    "model.add(Dense(1))\n",
    "model.compile(loss='mean_squared_error', optimizer='adam')"
   ]
  },
  {
   "cell_type": "code",
   "execution_count": 20,
   "metadata": {},
   "outputs": [
    {
     "name": "stdout",
     "output_type": "stream",
     "text": [
      "Epoch 1/100\n",
      "101/101 [==============================] - 1s 961us/step - loss: 0.0860\n",
      "Epoch 2/100\n",
      "101/101 [==============================] - 0s 956us/step - loss: 0.0262\n",
      "Epoch 3/100\n",
      "101/101 [==============================] - 0s 1ms/step - loss: 0.0253\n",
      "Epoch 4/100\n",
      "101/101 [==============================] - 0s 902us/step - loss: 0.0250\n",
      "Epoch 5/100\n",
      "101/101 [==============================] - 0s 1ms/step - loss: 0.0250\n",
      "Epoch 6/100\n",
      "101/101 [==============================] - 0s 913us/step - loss: 0.0250\n",
      "Epoch 7/100\n",
      "101/101 [==============================] - 0s 913us/step - loss: 0.0250\n",
      "Epoch 8/100\n",
      "101/101 [==============================] - 0s 892us/step - loss: 0.0250\n",
      "Epoch 9/100\n",
      "101/101 [==============================] - 0s 917us/step - loss: 0.0249\n",
      "Epoch 10/100\n",
      "101/101 [==============================] - 0s 940us/step - loss: 0.0249\n",
      "Epoch 11/100\n",
      "101/101 [==============================] - 0s 904us/step - loss: 0.0249\n",
      "Epoch 12/100\n",
      "101/101 [==============================] - 0s 900us/step - loss: 0.0249\n",
      "Epoch 13/100\n",
      "101/101 [==============================] - 0s 911us/step - loss: 0.0249\n",
      "Epoch 14/100\n",
      "101/101 [==============================] - 0s 930us/step - loss: 0.0249\n",
      "Epoch 15/100\n",
      "101/101 [==============================] - 0s 921us/step - loss: 0.0249\n",
      "Epoch 16/100\n",
      "101/101 [==============================] - 0s 919us/step - loss: 0.0249\n",
      "Epoch 17/100\n",
      "101/101 [==============================] - 0s 919us/step - loss: 0.0249\n",
      "Epoch 18/100\n",
      "101/101 [==============================] - 0s 925us/step - loss: 0.0249\n",
      "Epoch 19/100\n",
      "101/101 [==============================] - 0s 929us/step - loss: 0.0249\n",
      "Epoch 20/100\n",
      "101/101 [==============================] - 0s 935us/step - loss: 0.0249\n",
      "Epoch 21/100\n",
      "101/101 [==============================] - 0s 925us/step - loss: 0.0249\n",
      "Epoch 22/100\n",
      "101/101 [==============================] - 0s 914us/step - loss: 0.0249\n",
      "Epoch 23/100\n",
      "101/101 [==============================] - 0s 1ms/step - loss: 0.0249\n",
      "Epoch 24/100\n",
      "101/101 [==============================] - 0s 922us/step - loss: 0.0249\n",
      "Epoch 25/100\n",
      "101/101 [==============================] - 0s 929us/step - loss: 0.0249\n",
      "Epoch 26/100\n",
      "101/101 [==============================] - 0s 982us/step - loss: 0.0249\n",
      "Epoch 27/100\n",
      "101/101 [==============================] - 0s 930us/step - loss: 0.0249\n",
      "Epoch 28/100\n",
      "101/101 [==============================] - 0s 930us/step - loss: 0.0249\n",
      "Epoch 29/100\n",
      "101/101 [==============================] - 0s 943us/step - loss: 0.0249\n",
      "Epoch 30/100\n",
      "101/101 [==============================] - 0s 936us/step - loss: 0.0249\n",
      "Epoch 31/100\n",
      "101/101 [==============================] - 0s 919us/step - loss: 0.0249\n",
      "Epoch 32/100\n",
      "101/101 [==============================] - 0s 924us/step - loss: 0.0249\n",
      "Epoch 33/100\n",
      "101/101 [==============================] - 0s 897us/step - loss: 0.0249\n",
      "Epoch 34/100\n",
      "101/101 [==============================] - 0s 895us/step - loss: 0.0249\n",
      "Epoch 35/100\n",
      "101/101 [==============================] - 0s 1ms/step - loss: 0.0249\n",
      "Epoch 36/100\n",
      "101/101 [==============================] - 0s 1ms/step - loss: 0.0249\n",
      "Epoch 37/100\n",
      "101/101 [==============================] - 0s 908us/step - loss: 0.0249\n",
      "Epoch 38/100\n",
      "101/101 [==============================] - 0s 917us/step - loss: 0.0249\n",
      "Epoch 39/100\n",
      "101/101 [==============================] - 0s 904us/step - loss: 0.0249\n",
      "Epoch 40/100\n",
      "101/101 [==============================] - 0s 1ms/step - loss: 0.0248\n",
      "Epoch 41/100\n",
      "101/101 [==============================] - 0s 1ms/step - loss: 0.0249\n",
      "Epoch 42/100\n",
      "101/101 [==============================] - 0s 997us/step - loss: 0.0249\n",
      "Epoch 43/100\n",
      "101/101 [==============================] - 0s 1ms/step - loss: 0.0249\n",
      "Epoch 44/100\n",
      "101/101 [==============================] - 0s 1ms/step - loss: 0.0249\n",
      "Epoch 45/100\n",
      "101/101 [==============================] - 0s 986us/step - loss: 0.0249\n",
      "Epoch 46/100\n",
      "101/101 [==============================] - 0s 1ms/step - loss: 0.0249\n",
      "Epoch 47/100\n",
      "101/101 [==============================] - 0s 1ms/step - loss: 0.0248\n",
      "Epoch 48/100\n",
      "101/101 [==============================] - 0s 1ms/step - loss: 0.0249\n",
      "Epoch 49/100\n",
      "101/101 [==============================] - 0s 1ms/step - loss: 0.0249\n",
      "Epoch 50/100\n",
      "101/101 [==============================] - 0s 1ms/step - loss: 0.0249\n",
      "Epoch 51/100\n",
      "101/101 [==============================] - 0s 935us/step - loss: 0.0248\n",
      "Epoch 52/100\n",
      "101/101 [==============================] - 0s 954us/step - loss: 0.0248\n",
      "Epoch 53/100\n",
      "101/101 [==============================] - 0s 937us/step - loss: 0.0248\n",
      "Epoch 54/100\n",
      "101/101 [==============================] - 0s 974us/step - loss: 0.0248\n",
      "Epoch 55/100\n",
      "101/101 [==============================] - 0s 954us/step - loss: 0.0248\n",
      "Epoch 56/100\n",
      "101/101 [==============================] - 0s 963us/step - loss: 0.0249\n",
      "Epoch 57/100\n",
      "101/101 [==============================] - 0s 936us/step - loss: 0.0248\n",
      "Epoch 58/100\n",
      "101/101 [==============================] - 0s 955us/step - loss: 0.0248\n",
      "Epoch 59/100\n",
      "101/101 [==============================] - 0s 945us/step - loss: 0.0249\n",
      "Epoch 60/100\n",
      "101/101 [==============================] - 0s 1ms/step - loss: 0.0248\n",
      "Epoch 61/100\n",
      "101/101 [==============================] - 0s 965us/step - loss: 0.0248\n",
      "Epoch 62/100\n",
      "101/101 [==============================] - 0s 941us/step - loss: 0.0249\n",
      "Epoch 63/100\n",
      "101/101 [==============================] - 0s 968us/step - loss: 0.0249\n",
      "Epoch 64/100\n",
      "101/101 [==============================] - 0s 967us/step - loss: 0.0248\n",
      "Epoch 65/100\n",
      "101/101 [==============================] - 0s 942us/step - loss: 0.0248\n",
      "Epoch 66/100\n",
      "101/101 [==============================] - 0s 963us/step - loss: 0.0248\n",
      "Epoch 67/100\n",
      "101/101 [==============================] - 0s 1ms/step - loss: 0.0248\n",
      "Epoch 68/100\n",
      "101/101 [==============================] - 0s 962us/step - loss: 0.0248\n",
      "Epoch 69/100\n",
      "101/101 [==============================] - 0s 945us/step - loss: 0.0248\n",
      "Epoch 70/100\n",
      "101/101 [==============================] - 0s 983us/step - loss: 0.0249\n",
      "Epoch 71/100\n",
      "101/101 [==============================] - 0s 952us/step - loss: 0.0248\n",
      "Epoch 72/100\n",
      "101/101 [==============================] - 0s 937us/step - loss: 0.0248\n",
      "Epoch 73/100\n",
      "101/101 [==============================] - 0s 956us/step - loss: 0.0249\n",
      "Epoch 74/100\n",
      "101/101 [==============================] - 0s 944us/step - loss: 0.0248\n",
      "Epoch 75/100\n",
      "101/101 [==============================] - 0s 957us/step - loss: 0.0248\n",
      "Epoch 76/100\n",
      "101/101 [==============================] - 0s 957us/step - loss: 0.0248\n",
      "Epoch 77/100\n",
      "101/101 [==============================] - 0s 963us/step - loss: 0.0248\n",
      "Epoch 78/100\n",
      "101/101 [==============================] - 0s 915us/step - loss: 0.0248\n",
      "Epoch 79/100\n",
      "101/101 [==============================] - 0s 946us/step - loss: 0.0248\n",
      "Epoch 80/100\n",
      "101/101 [==============================] - 0s 951us/step - loss: 0.0248\n",
      "Epoch 81/100\n",
      "101/101 [==============================] - 0s 985us/step - loss: 0.0248\n",
      "Epoch 82/100\n",
      "101/101 [==============================] - 0s 965us/step - loss: 0.0248\n",
      "Epoch 83/100\n",
      "101/101 [==============================] - 0s 956us/step - loss: 0.0248\n",
      "Epoch 84/100\n",
      "101/101 [==============================] - 0s 1ms/step - loss: 0.0248\n",
      "Epoch 85/100\n",
      "101/101 [==============================] - 0s 1ms/step - loss: 0.0248\n",
      "Epoch 86/100\n",
      "101/101 [==============================] - 0s 944us/step - loss: 0.0248\n",
      "Epoch 87/100\n",
      "101/101 [==============================] - 0s 945us/step - loss: 0.0248\n",
      "Epoch 88/100\n",
      "101/101 [==============================] - 0s 934us/step - loss: 0.0248\n",
      "Epoch 89/100\n",
      "101/101 [==============================] - 0s 947us/step - loss: 0.0248\n",
      "Epoch 90/100\n",
      "101/101 [==============================] - 0s 1ms/step - loss: 0.0248\n",
      "Epoch 91/100\n",
      "101/101 [==============================] - 0s 948us/step - loss: 0.0248\n",
      "Epoch 92/100\n",
      "101/101 [==============================] - 0s 954us/step - loss: 0.0248\n",
      "Epoch 93/100\n",
      "101/101 [==============================] - 0s 932us/step - loss: 0.0248\n",
      "Epoch 94/100\n",
      "101/101 [==============================] - 0s 964us/step - loss: 0.0248\n",
      "Epoch 95/100\n",
      "101/101 [==============================] - 0s 976us/step - loss: 0.0248\n",
      "Epoch 96/100\n",
      "101/101 [==============================] - 0s 963us/step - loss: 0.0248\n",
      "Epoch 97/100\n",
      "101/101 [==============================] - 0s 950us/step - loss: 0.0248\n",
      "Epoch 98/100\n",
      "101/101 [==============================] - 0s 951us/step - loss: 0.0248\n",
      "Epoch 99/100\n",
      "101/101 [==============================] - 0s 951us/step - loss: 0.0248\n",
      "Epoch 100/100\n",
      "101/101 [==============================] - 0s 937us/step - loss: 0.0248\n"
     ]
    },
    {
     "data": {
      "text/plain": [
       "<keras.callbacks.History at 0x1ce798d20d0>"
      ]
     },
     "execution_count": 20,
     "metadata": {},
     "output_type": "execute_result"
    }
   ],
   "source": [
    "# Train the model\n",
    "X_train = np.array([train_scaled[i-1:i] for i in range(1, len(train_scaled))])\n",
    "y_train = np.array([train_scaled[i] for i in range(1, len(train_scaled))])\n",
    "model.fit(X_train, y_train, epochs=100, batch_size=8, verbose=1)"
   ]
  },
  {
   "cell_type": "code",
   "execution_count": 21,
   "metadata": {},
   "outputs": [
    {
     "name": "stdout",
     "output_type": "stream",
     "text": [
      "7/7 [==============================] - 0s 1ms/step\n"
     ]
    }
   ],
   "source": [
    "# Make predictions\n",
    "X_test = np.array([test_scaled[i-1:i] for i in range(1, len(test_scaled))])\n",
    "y_pred = model.predict(X_test)"
   ]
  },
  {
   "cell_type": "code",
   "execution_count": 22,
   "metadata": {},
   "outputs": [],
   "source": [
    "# Inverse transform the predictions\n",
    "# y_pred = model.predict(X_test)\n",
    "y_pred_inv = y_pred.reshape(y_pred.shape[0], y_pred.shape[1])"
   ]
  },
  {
   "cell_type": "code",
   "execution_count": 24,
   "metadata": {},
   "outputs": [
    {
     "data": {
      "image/png": "[encoded data removed]",
      "text/plain": [
       "<Figure size 640x480 with 1 Axes>"
      ]
     },
     "metadata": {},
     "output_type": "display_data"
    }
   ],
   "source": [
    "# Plot the predictions against the actual stock prices\n",
    "import matplotlib.pyplot as plt\n",
    "plt.plot(test_data.index[1:], test_data['Adj Close'][1:], label='Actual')\n",
    "plt.plot(test_data.index[1:], y_pred_inv, label='Predicted')\n",
    "plt.legend()\n",
    "plt.show()"
   ]
  },
  {
   "cell_type": "code",
   "execution_count": 25,
   "metadata": {},
   "outputs": [],
   "source": [
    "# Create a new DataFrame with the predictions and the corresponding dates\n",
    "pred_df = pd.DataFrame({'Date': test_data.index[1:], 'Predicted': y_pred_inv[:,0]})\n",
    "\n",
    "# Export the DataFrame to a CSV file\n",
    "pred_df.to_csv('predicted_stock_prices2.csv', index=False)"
   ]
  }
 ],
 "metadata": {
  "kernelspec": {
   "display_name": "base",
   "language": "python",
   "name": "python3"
  },
  "language_info": {
   "codemirror_mode": {
    "name": "ipython",
    "version": 3
   },
   "file_extension": ".py",
   "mimetype": "text/x-python",
   "name": "python",
   "nbconvert_exporter": "python",
   "pygments_lexer": "ipython3",
   "version": "3.9.16"
  },
  "orig_nbformat": 4
 },
 "nbformat": 4,
 "nbformat_minor": 2
}
